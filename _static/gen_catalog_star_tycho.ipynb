{
 "cells": [
  {
   "cell_type": "markdown",
   "id": "c7917f6d-06d7-4a92-beb4-e0187898a90a",
   "metadata": {},
   "source": [
    "# SITCOMTN-058: Stars for CWFS correction \n",
    "\n",
    "A catalog of bright stars with clean surrounding is required to perform focus and alignment with the AuxTel.\n",
    "It is anticipated that rebuilding star catalog is required when new criteria should be applied to the selection of stars. This technote is to describe the notebook that creates a new catalog based on queries from Tycho-2 and HD catalog. This notebook can be found on this github [repo](https://github.com/lsst-sitcom/sitcomtn-058/tree/main/_static).\n",
    "**Please note that it is recommended to run this notebook in a local environment as it may take several tens of minutes or longer to complete.**\n",
    "\n",
    "https://sitcomtn-058.lsst.io/\n",
    "https://jira.lsstcorp.org/browse/SITCOM-616"
   ]
  },
  {
   "cell_type": "markdown",
   "id": "da13a38f-6b58-49ae-9ed1-a4cb535c3771",
   "metadata": {
    "tags": []
   },
   "source": [
    "# 1. Create a notebook with the Tycho-2 catalogue\n",
    "\n",
    "Create a notebook that starts with the HD catalogue, then does the large elimination of sources via magnitude (6-8) and observability from the southern hemisphere. <br>\n",
    "\n",
    "- Catalog is imported from the Tycho-2 catalogue (Hog+00)(Vizier I/259/tyc2; http://vizier.cds.unistra.fr/viz-bin/VizieR-3?-source=I/259/tyc2) <br>"
   ]
  },
  {
   "cell_type": "code",
   "execution_count": null,
   "id": "e478f3a2-f6fc-4bd7-a027-ee998a9e072c",
   "metadata": {
    "execution": {
     "iopub.execute_input": "2023-02-09T16:22:57.481827Z",
     "iopub.status.busy": "2023-02-09T16:22:57.481668Z",
     "iopub.status.idle": "2023-02-09T16:22:57.702953Z",
     "shell.execute_reply": "2023-02-09T16:22:57.702355Z",
     "shell.execute_reply.started": "2023-02-09T16:22:57.481811Z"
    },
    "tags": []
   },
   "outputs": [],
   "source": [
    "#1-1 Import \n",
    "import pandas as pd\n",
    "import json\n",
    "from astroquery.vizier import Vizier\n",
    "from astropy.table.pprint import conf\n",
    "from astropy.table import  QTable, Table, Column\n",
    "from astropy import coordinates\n",
    "import astropy.units as u\n",
    "import numpy as np\n",
    "import sys, re, time, math\n",
    "from astropy.io import ascii\n",
    "from astropy import units as u\n",
    "from astropy.coordinates import SkyCoord\n",
    "import os.path              \n",
    "from astroquery.simbad import Simbad\n",
    "from IPython.display import Markdown as md\n",
    "\n",
    "pd.options.display.max_rows = 10"
   ]
  },
  {
   "cell_type": "code",
   "execution_count": null,
   "id": "9d9e0b60-4f30-4c5e-8a60-21691dd1000e",
   "metadata": {
    "execution": {
     "iopub.execute_input": "2023-02-09T16:23:07.237847Z",
     "iopub.status.busy": "2023-02-09T16:23:07.237478Z",
     "iopub.status.idle": "2023-02-09T16:23:07.241580Z",
     "shell.execute_reply": "2023-02-09T16:23:07.241092Z",
     "shell.execute_reply.started": "2023-02-09T16:23:07.237829Z"
    },
    "tags": []
   },
   "outputs": [],
   "source": [
    "#1-2 Define the timeout or limit for Simbad query\n",
    "conf.max_lines = -1\n",
    "conf.max_width = -1\n",
    "Vizier.ROW_LIMIT = -1\n",
    "Simbad.TIMEOUT = 1200\n",
    "customSimbad = Simbad()\n",
    "customSimbad.TIMEOUT = 1200"
   ]
  },
  {
   "cell_type": "markdown",
   "id": "9fc96c74",
   "metadata": {},
   "source": [
    "The file name ('file') can be changed to what you want to save as. <br>\n",
    "At the first time, query the Vizier catalog and save the list of all stars with constraints into json file. If the file already exists in local, it reads the existing file. <br>\n",
    "\n",
    "- <b>``RAmdeg``: String (unit: deg)</b><br>\n",
    "    Mean Right Asc, ICRS, epoch=J2000 with logical operator <br>\n",
    "- <b>``DEmdeg``: String (unit: deg)</b><br>\n",
    "    Mean Decl, ICRS, at epoch=J2000 with logical operator <br>\n",
    "- <b> ``VTmag``: String (unit: mag)</b><br>\n",
    "    Tycho-2 VT magnitude with logical operator <br>"
   ]
  },
  {
   "cell_type": "code",
   "execution_count": null,
   "id": "31e80f58",
   "metadata": {},
   "outputs": [],
   "source": [
    "DEmdeg = '<10.0' ; VTmag = '<10'"
   ]
  },
  {
   "cell_type": "code",
   "execution_count": null,
   "id": "bdc30631",
   "metadata": {},
   "outputs": [],
   "source": [
    "file = './cwfs_tycho2_stars.pd' "
   ]
  },
  {
   "cell_type": "code",
   "execution_count": null,
   "id": "a66367e1-c835-4d24-8f0c-a75f9f23cd0e",
   "metadata": {
    "execution": {
     "iopub.execute_input": "2023-02-09T16:24:37.384075Z",
     "iopub.status.busy": "2023-02-09T16:24:37.383906Z",
     "iopub.status.idle": "2023-02-09T16:24:38.490887Z",
     "shell.execute_reply": "2023-02-09T16:24:38.490278Z",
     "shell.execute_reply.started": "2023-02-09T16:24:37.384060Z"
    },
    "tags": []
   },
   "outputs": [],
   "source": [
    "if os.path.exists(file):\n",
    "    print('Read existing Vizier Catalog in Local'+file)\n",
    "    tycho_star_all = pd.read_json(file)\n",
    "else :\n",
    "    print('Read Vizier Catalog I/259/tyc2 ')\n",
    "    tycho_star_all = Vizier.query_constraints(catalog='I/259/tyc2', DEmdeg=DEmdeg, VTmag=VTmag)[0]\n",
    "    tycho_star_all = tycho_star_all.to_pandas()\n",
    "    result = tycho_star_all.to_json(file)"
   ]
  },
  {
   "cell_type": "markdown",
   "id": "921aff0e-9031-4f48-8dee-3c0e529c2d35",
   "metadata": {},
   "source": [
    "# 2. Cutting using the Criteria \n",
    "\n",
    "  Following is the selection criteria to cut sample. \n",
    "- Criteria 1: Trim targets which have contaminants < 10th magnitude within 1 arcminute <br>\n",
    "- Criteria 2: targets which have bright stars (mag<6) within 7 arcminutes <br>\n",
    "- Criteria 3: Exclude targets which have bright stars (mag<3) within 20 arcminutes <br>\n",
    " \n",
    " You can also change the following parameters:\n",
    " - <b>``mag_upper`` & ``mag_lower``</b>: \n",
    "   the upper and lower limit of the CWFS stars. The default values are V_upper = 6 mag, V_lower = 8 mag. <br>\n",
    " - <b>``pm_cut``</b>: the upper limit of net proper motion (Default: +-100mas/yr) <br>\n",
    " - <b>``net_pm``</b>: net proper motion (net_pm $\\equiv$ $\\sqrt{(pmRA)^2+(pmDE)^2}$); <br>\n",
    " - <b>Criteria N</b>:<br> \n",
    "     - ``mag_cutN``: Magnitude cut of nearby star <br>\n",
    "     - ``area_cutN``: within N arcminutes <br>"
   ]
  },
  {
   "cell_type": "code",
   "execution_count": null,
   "id": "f7163273-b962-4f90-9451-3afc18341a36",
   "metadata": {
    "execution": {
     "iopub.execute_input": "2023-02-09T16:37:25.827959Z",
     "iopub.status.busy": "2023-02-09T16:37:25.827671Z",
     "iopub.status.idle": "2023-02-09T16:37:25.830817Z",
     "shell.execute_reply": "2023-02-09T16:37:25.830407Z",
     "shell.execute_reply.started": "2023-02-09T16:37:25.827941Z"
    },
    "tags": []
   },
   "outputs": [],
   "source": [
    "#1-3 Define the cuts \n",
    "mag_upper = 6 ; mag_lower = 8; pm_cut = 100 #pm_cut for net_pm (sqrt(pmRA*cosDec^2.0+pmDEC^2.0))\n",
    "area_cut1 = 1; area_cut2 = 7; area_cut3 = 20 #arcmin.\n",
    "mag_cut1 = 10; mag_cut2 = 6; mag_cut3= 3 #Vmag"
   ]
  },
  {
   "cell_type": "code",
   "execution_count": null,
   "id": "c5295a08-de1d-429c-9496-106ecf6426b5",
   "metadata": {
    "execution": {
     "iopub.execute_input": "2023-02-09T16:34:54.386158Z",
     "iopub.status.busy": "2023-02-09T16:34:54.385765Z",
     "iopub.status.idle": "2023-02-09T16:34:54.397549Z",
     "shell.execute_reply": "2023-02-09T16:34:54.396869Z",
     "shell.execute_reply.started": "2023-02-09T16:34:54.386141Z"
    },
    "scrolled": true,
    "tags": []
   },
   "outputs": [],
   "source": [
    "tycho_star_all['net_pm'] = (((tycho_star_all['pmRA'])**2.0 + (tycho_star_all['pmDE'])**2.0)**0.5)\n",
    "tycho_star_cut = tycho_star_all[(tycho_star_all['VTmag'] > mag_upper) & (tycho_star_all['VTmag'] < mag_lower) & (tycho_star_all['net_pm'] < pm_cut)]"
   ]
  },
  {
   "cell_type": "code",
   "execution_count": null,
   "id": "b04f2bfc",
   "metadata": {},
   "outputs": [],
   "source": [
    "display(tycho_star_cut)"
   ]
  },
  {
   "cell_type": "code",
   "execution_count": null,
   "id": "38404a20",
   "metadata": {},
   "outputs": [],
   "source": [
    "# function: seperation between position 1(RA1, DEC1) and position 2(RA2, DEC2) on Sky\n",
    "def sep(RA1,RA2,Dec1,Dec2):\n",
    "    sep = ((((RA1-RA2)*np.cos(Dec1))**(2.0))+((Dec1-Dec2)**2.0))**(0.5)\n",
    "    return sep"
   ]
  },
  {
   "cell_type": "code",
   "execution_count": null,
   "id": "8c2813d9-b1c0-41a6-85be-2a26b4a26a21",
   "metadata": {
    "execution": {
     "iopub.execute_input": "2023-02-09T16:38:46.474556Z",
     "iopub.status.busy": "2023-02-09T16:38:46.474350Z",
     "iopub.status.idle": "2023-02-09T16:39:56.635632Z",
     "shell.execute_reply": "2023-02-09T16:39:56.635128Z",
     "shell.execute_reply.started": "2023-02-09T16:38:46.474539Z"
    },
    "tags": []
   },
   "outputs": [],
   "source": [
    "tycho_star_cut_criteria = pd.DataFrame.copy(tycho_star_cut)\n",
    "\n",
    "for i in tycho_star_cut.index:\n",
    "    within_1arcmin = (sep(tycho_star_cut[\"RA_ICRS_\"][i],tycho_star_all[\"RA_ICRS_\"],tycho_star_cut[\"DE_ICRS_\"][i],tycho_star_all[\"DE_ICRS_\"]) < area_cut1/60.0) & (tycho_star_all[\"VTmag\"] < mag_cut1)\n",
    "    within_7arcmin = (sep(tycho_star_cut[\"RA_ICRS_\"][i],tycho_star_all[\"RA_ICRS_\"],tycho_star_cut[\"DE_ICRS_\"][i],tycho_star_all[\"DE_ICRS_\"]) < area_cut2/60.0) & (tycho_star_all[\"VTmag\"] < mag_cut2)\n",
    "    within_20arcmin = (sep(tycho_star_cut[\"RA_ICRS_\"][i],tycho_star_all[\"RA_ICRS_\"],tycho_star_cut[\"DE_ICRS_\"][i],tycho_star_all[\"DE_ICRS_\"]) < area_cut3/60.0)& (tycho_star_all[\"VTmag\"] < mag_cut3)\n",
    "    if np.count_nonzero(within_1arcmin) > 1 or np.count_nonzero(within_7arcmin) > 0 or np.count_nonzero(within_20arcmin) > 0:\n",
    "        tycho_star_cut_criteria.drop([i], inplace=True)"
   ]
  },
  {
   "cell_type": "code",
   "execution_count": null,
   "id": "5c7ab368-001b-4c43-be45-0ce65511de56",
   "metadata": {
    "execution": {
     "iopub.execute_input": "2023-02-09T16:45:05.502052Z",
     "iopub.status.busy": "2023-02-09T16:45:05.501755Z",
     "iopub.status.idle": "2023-02-09T16:45:05.511304Z",
     "shell.execute_reply": "2023-02-09T16:45:05.510842Z",
     "shell.execute_reply.started": "2023-02-09T16:45:05.502034Z"
    }
   },
   "outputs": [],
   "source": [
    "display(tycho_star_cut_criteria)"
   ]
  },
  {
   "cell_type": "markdown",
   "id": "f93cc8a5",
   "metadata": {},
   "source": [
    "Now we will match this catalog with HD identifications for Tycho-2 stars (Fabricius+, 2002), queried from Vizier 'IV/25/tyc2_hd' (http://vizier.cfa.harvard.edu/viz-bin/VizieR-3?-source=IV/25/tyc2_hd). "
   ]
  },
  {
   "cell_type": "code",
   "execution_count": null,
   "id": "b1bdab3e",
   "metadata": {},
   "outputs": [],
   "source": [
    "print('Query Vizier Catalog IV/25/tyc2_hd to match TYC ID and HD ID')\n",
    "HD_stars_all = Vizier.query_constraints(catalog='IV/25/tyc2_hd')[0]"
   ]
  },
  {
   "cell_type": "code",
   "execution_count": null,
   "id": "ede0956c",
   "metadata": {},
   "outputs": [],
   "source": [
    "index_only = HD_stars_all[0:0]\n",
    "index_only.add_columns([(),(),()],names=['pmRA','pmDE','net_pm'])\n",
    "index_only['pmRA'] = index_only['pmRA'].astype(np.float32)\n",
    "index_only['pmDE'] = index_only['pmDE'].astype(np.float32)\n",
    "index_only['net_pm'] = index_only['net_pm'].astype(np.float32)\n",
    "HD_star_match= Table(index_only)"
   ]
  },
  {
   "cell_type": "code",
   "execution_count": null,
   "id": "34536e49-4386-4489-b186-927033c38f5d",
   "metadata": {
    "execution": {
     "iopub.execute_input": "2023-02-09T16:49:25.119948Z",
     "iopub.status.busy": "2023-02-09T16:49:25.119707Z",
     "iopub.status.idle": "2023-02-09T16:49:25.123859Z",
     "shell.execute_reply": "2023-02-09T16:49:25.123377Z",
     "shell.execute_reply.started": "2023-02-09T16:49:25.119925Z"
    },
    "scrolled": true,
    "tags": []
   },
   "outputs": [],
   "source": [
    "for i in tycho_star_cut_criteria.index: \n",
    "    condition = (HD_stars_all[\"TYC1\"]==tycho_star_cut_criteria[\"TYC1\"][i]) & \\\n",
    "    (HD_stars_all[\"TYC2\"]==tycho_star_cut_criteria['TYC2'][i]) & \\\n",
    "    (HD_stars_all[\"TYC3\"]==tycho_star_cut_criteria['TYC3'][i])\n",
    "    if np.count_nonzero(condition) == 1:\n",
    "        table = HD_stars_all[condition]\n",
    "        table['pmRA'] = tycho_star_cut_criteria[\"pmRA\"][i] \n",
    "        table['pmDE'] = tycho_star_cut_criteria[\"pmDE\"][i] \n",
    "        table['net_pm'] = tycho_star_cut_criteria[\"net_pm\"][i]\n",
    "        HD_star_match.add_row(table[:][0])"
   ]
  },
  {
   "cell_type": "code",
   "execution_count": null,
   "id": "c407f3e9",
   "metadata": {},
   "outputs": [],
   "source": [
    "HD_star_match.show_in_notebook(display_length=10)"
   ]
  },
  {
   "cell_type": "markdown",
   "id": "4f99c17a",
   "metadata": {},
   "source": [
    "Then, query simbad data for each selected CWFS stars:<br>\n",
    "- The default VOTable fields: ``MAIN_ID``, ``RA``, ``DEC``, ``RA_PREC``, ``DEC_PREC``, ``COO_ERR_MAJA``, ``COO_ERR_MINA``, ``COO_ERR_ANGLE``, ``COO_QUAL``, ``COO_WAVELENGTH``, ``COO_BIBCODE``, ``SCRIPT_NUMBER_ID`` <br>\n",
    "- Add ``flux_name(V)``, ``flux(V)``, ``flux_error(V)``, ``flux_system(V)``, ``flux_bibcode(V)``, ``flux_qual(V)``, ``flux_univ(V)`` fields for VOTable.<br> \n",
    "- Note that some stars can have non-HD Main ID in the final catalog, but these stars also have HD ID. "
   ]
  },
  {
   "cell_type": "code",
   "execution_count": null,
   "id": "0e55edc2-136b-4759-93e0-a5176b1cea7c",
   "metadata": {
    "tags": []
   },
   "outputs": [],
   "source": [
    "customSimbad = Simbad()\n",
    "customSimbad.add_votable_fields('flux_name(V)', 'flux(V)', 'flux_error(V)',\\\n",
    "                                'flux_system(V)','flux_bibcode(V)', 'flux_qual(V)', 'flux_unit(V)')\n",
    "\n",
    "for i in range(0,len(HD_star_match[\"HD\"])):\n",
    "    result_table = customSimbad.query_object('HD '+str(HD_star_match[\"HD\"][i]))\n",
    "    result_table[\"HD_ID\"] = 'HD '+str(HD_star_match[\"HD\"][i])\n",
    "    result_table[\"pmRA\"] = HD_star_match[\"pmRA\"][i]\n",
    "    result_table[\"pmDE\"] = HD_star_match[\"pmDE\"][i]\n",
    "    result_table[\"net_pm\"] = HD_star_match[\"net_pm\"][i]\n",
    "    if i==0:\n",
    "        final = result_table\n",
    "    else:\n",
    "        final.add_row(result_table[:][0])"
   ]
  },
  {
   "cell_type": "code",
   "execution_count": null,
   "id": "8529ee68",
   "metadata": {
    "scrolled": true
   },
   "outputs": [],
   "source": [
    "final.show_in_notebook(display_length=10)"
   ]
  },
  {
   "cell_type": "markdown",
   "id": "609afe99",
   "metadata": {},
   "source": [
    "If you want to chech all available fields for VOTable, please run the following command."
   ]
  },
  {
   "cell_type": "code",
   "execution_count": null,
   "id": "c2d327dd",
   "metadata": {},
   "outputs": [],
   "source": [
    "customSimbad.list_votable_fields()"
   ]
  },
  {
   "cell_type": "markdown",
   "id": "0a38a165-de9d-41f9-b363-9e59eb070fe0",
   "metadata": {},
   "source": [
    "# 3. Manually Exclude the stars from the list (Optional)\n",
    "This section is to exclude the stars from the list manually. Put the ID (HD) of the stars on the ``Remove_main_id`` list below. Even if there are any stars not included in the final table, it is fine to run. If it is not nessary to remove any star, please skip this step. "
   ]
  },
  {
   "cell_type": "code",
   "execution_count": null,
   "id": "03c20d6f-63b7-4206-8ef5-12960e7172f2",
   "metadata": {
    "tags": []
   },
   "outputs": [],
   "source": [
    "Remove_main_id = [\"HD22746\",\"HD452\"] #HD NNNNNN "
   ]
  },
  {
   "cell_type": "code",
   "execution_count": null,
   "id": "c5f02cdc-f4ac-4923-9922-b84f4f7f5a81",
   "metadata": {
    "tags": []
   },
   "outputs": [],
   "source": [
    "p= re.compile(\"\\d*\\.?\\d+\")\n",
    "customSimbad = Simbad()\n",
    "for i in range(len(Remove_main_id)):\n",
    "    number = p.findall(Remove_main_id[i])[0]\n",
    "    Remove_main_id_simbad= customSimbad.query_region('HD '+str(number))[\"MAIN_ID\"]\n",
    "    Remove = (final[\"MAIN_ID\"] == Remove_main_id_simbad[0])\n",
    "    if np.count_nonzero(Remove) !=0 :\n",
    "        remove_index = [i for i, x in enumerate(Remove) if x]\n",
    "        final.remove_row(remove_index[0])\n",
    "        print(Remove_main_id_simbad[0]+' is now removed from the final catalog')"
   ]
  },
  {
   "cell_type": "markdown",
   "id": "dd1b70f4-4f83-46c5-9b33-8cb90b25f50a",
   "metadata": {},
   "source": [
    "# 4. Save the result into the file\n",
    "\n",
    "Export table into a json data file. The name of the output catalog can be changed using ``file_name_final``."
   ]
  },
  {
   "cell_type": "code",
   "execution_count": null,
   "id": "01dd5c26-cabf-4fce-aa49-9f66908e03da",
   "metadata": {
    "tags": []
   },
   "outputs": [],
   "source": [
    "file_name_final = 'HD_cwfs_stars.pd' #file_name\n",
    "result = final.to_pandas().to_json(file_name_final)\n",
    "print('List of Stars was exported to '+file_name_final)"
   ]
  },
  {
   "cell_type": "markdown",
   "id": "1ee9f1b1-da9b-47ce-8897-fda149639219",
   "metadata": {},
   "source": [
    "# 5. Plot for the distribution of the Stars on Sky. \n",
    "This section is to check the distribution of the final selection of CWFS stars. <br>\n",
    "If the catalog already exists, you can only plot the distribution. ``plot_mwd``is adopted from http://balbuceosastropy.blogspot.com/2013/09/the-mollweide-projection.html. "
   ]
  },
  {
   "cell_type": "code",
   "execution_count": null,
   "id": "bc1e8c52",
   "metadata": {},
   "outputs": [],
   "source": [
    "file_name_final = 'HD_cwfs_stars.pd' #file_name\n",
    "final_list = pd.read_json(file_name_final)"
   ]
  },
  {
   "cell_type": "code",
   "execution_count": null,
   "id": "5fc3a68c-e41e-4c9a-8697-4337360753f3",
   "metadata": {
    "tags": []
   },
   "outputs": [],
   "source": [
    "from astropy import units as u\n",
    "from astropy.coordinates import SkyCoord\n",
    "\n",
    "import matplotlib.pyplot as plt\n",
    "import ephem # to make coordinate systems conversions\n",
    "from IPython.core.display import HTML # To include images as HTML"
   ]
  },
  {
   "cell_type": "code",
   "execution_count": null,
   "id": "6d87bcb1-aa47-4db2-a127-ee9116a3e8bd",
   "metadata": {
    "tags": []
   },
   "outputs": [],
   "source": [
    "def plot_mwd(RA,Dec,org=0,title='Mollweide projection', projection='mollweide', color=\"blue\"):\n",
    "    ''' RA, Dec are arrays of the same length.\n",
    "    RA takes values in [0,360), Dec in [-90,90],\n",
    "    which represent angles in degrees.\n",
    "    org is the origin of the plot, 0 or a multiple of 30 degrees in [0,360).\n",
    "    title is the title of the figure.\n",
    "    projection is the kind of projection: 'mollweide', 'aitoff', 'hammer', 'lambert'\n",
    "    '''\n",
    "    x = np.remainder(RA+360-org,360) # shift RA values\n",
    "    ind = x>180\n",
    "    x[ind] -=360    # scale conversion to [-180, 180]\n",
    "    x=-x    # reverse the scale: East to the left\n",
    "    tick_labels = np.array([150, 120, 90, 60, 30, 0, 330, 300, 270, 240, 210])\n",
    "    tick_labels = np.remainder(tick_labels+360+org,360)\n",
    "    fig = plt.figure(figsize=(10, 5))\n",
    "    #ax = fig.add_subplot(111, projection=projection, axisbg ='LightCyan')\n",
    "\n",
    "    ax = fig.add_subplot(111, projection=projection)\n",
    "    ax.scatter(np.radians(x),np.radians(Dec), c=color, marker='.', s=1)  # convert degrees to radians\n",
    "    ax.set_xticklabels(tick_labels)     # we add the scale on the x axis\n",
    "    ax.set_title(title)\n",
    "    ax.title.set_fontsize(15)\n",
    "    ax.set_xlabel(\"RA\")\n",
    "    ax.xaxis.label.set_fontsize(12)\n",
    "    ax.set_ylabel(\"Dec\")\n",
    "    ax.yaxis.label.set_fontsize(12)\n",
    "    ax.grid(True)"
   ]
  },
  {
   "cell_type": "code",
   "execution_count": null,
   "id": "2b9cb7f6-3626-40f8-a07d-46217e29c480",
   "metadata": {
    "tags": []
   },
   "outputs": [],
   "source": [
    "c = SkyCoord(final_list[\"RA\"], final_list[\"DEC\"], unit=(u.hourangle, u.deg))\n",
    "plot_mwd(c.ra.deg,c.dec.deg, title=\"Distribution of CWFS Stars\")\n",
    "\n",
    "plt.show()"
   ]
  },
  {
   "cell_type": "markdown",
   "id": "d6dab257-e8a6-4012-ba03-dc14b3471b31",
   "metadata": {},
   "source": [
    "# Appendix. Check the Field of the Individual Star\n",
    "If it is necessary to check the FOV of the individual star, you can check it manually.<br>\n",
    "The default FOV of the image are 6.7' x 6.7'. "
   ]
  },
  {
   "cell_type": "code",
   "execution_count": null,
   "id": "ded85c7c",
   "metadata": {},
   "outputs": [],
   "source": [
    "star_name_img_query = \"HD 2527\"\n",
    "FOV=6.7*1/60.0 #6.7 x 6.7 arcminutes for AuxTel"
   ]
  },
  {
   "cell_type": "code",
   "execution_count": null,
   "id": "3ce2af17-39cd-4fc4-8183-c2613847a667",
   "metadata": {
    "tags": []
   },
   "outputs": [],
   "source": [
    "from astroquery.skyview import SkyView\n",
    "import numpy as np\n",
    "survey_name = [\"DSS2 Blue\", \"DSS2 Red\", \"DSS2 IR\"]\n",
    "img = SkyView.get_images(star_name_img_query,survey=survey_name,\\\n",
    "                         height=FOV*u.degree,width=FOV*u.degree,coordinates='J2000',grid=True,gridlabels=True)"
   ]
  },
  {
   "cell_type": "code",
   "execution_count": null,
   "id": "e56488e6-b144-43fc-a688-7d20f32068e4",
   "metadata": {
    "tags": []
   },
   "outputs": [],
   "source": [
    "ncol=len(survey_name)\n",
    "fig,ax = plt.subplots(ncols=ncol,figsize=(24,8))\n",
    "for i in range(ncol):\n",
    "    plot = ax[i].imshow(img[i][0].data,vmax=np.max(img[i][0].data)*.95,\\\n",
    "                        vmin=np.max(img[i][0].data)*.25, aspect='equal')\n",
    "    ax[i].set_title(str(survey_name[i]), fontsize=15)\n",
    "    fig.gca().invert_yaxis()\n",
    "\n",
    "print(star_name_img_query, 'FOV = '+str((FOV*60))+'\\\"'+'x '+str((FOV*60))+'\\\"')"
   ]
  },
  {
   "cell_type": "code",
   "execution_count": null,
   "id": "f2e78dd7",
   "metadata": {},
   "outputs": [],
   "source": []
  }
 ],
 "metadata": {
  "kernelspec": {
   "display_name": "Python 3 (ipykernel)",
   "language": "python",
   "name": "python3"
  },
  "language_info": {
   "codemirror_mode": {
    "name": "ipython",
    "version": 3
   },
   "file_extension": ".py",
   "mimetype": "text/x-python",
   "name": "python",
   "nbconvert_exporter": "python",
   "pygments_lexer": "ipython3",
   "version": "3.11.2"
  }
 },
 "nbformat": 4,
 "nbformat_minor": 5
}
